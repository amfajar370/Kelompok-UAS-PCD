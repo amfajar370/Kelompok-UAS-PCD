{
 "cells": [
  {
   "attachments": {},
   "cell_type": "markdown",
   "metadata": {},
   "source": [
    "Latihan 1"
   ]
  },
  {
   "cell_type": "code",
   "execution_count": 1,
   "metadata": {},
   "outputs": [],
   "source": [
    "#Import Library\n",
    "import cv2\n",
    "import numpy as np"
   ]
  },
  {
   "cell_type": "code",
   "execution_count": 2,
   "metadata": {},
   "outputs": [],
   "source": [
    "def identify_currency(image):\n",
    "    # Memuat template gambar untuk setiap denominasi mata uang\n",
    "    template_10k = cv2.imread('1000.jpg', 0)  # 1,000 Rupiah\n",
    "    template_20k = cv2.imread('2000.jpg', 0)  # 2,000 Rupiah\n",
    "    template_50k = cv2.imread('5000.jpg', 0)  # 5,000 Rupiah\n",
    "    template_100k = cv2.imread('10000.jpg', 0)  # 10,000 Rupiah\n",
    "    template_200k = cv2.imread('20000.jpg', 0)  # 20,000 Rupiah\n",
    "    template_500k = cv2.imread('50000.jpg', 0)  # 50,000 Rupiah\n",
    "\n",
    "    templates = [template_10k, template_20k, template_50k, template_100k, template_200k, template_500k]\n",
    "    denominations = [10000, 20000, 50000, 100000, 200000, 500000]\n",
    "\n",
    "    # Mengubah gambar input menjadi skala keabuan\n",
    "    gray = cv2.cvtColor(image, cv2.COLOR_BGR2GRAY)\n",
    "\n",
    "    # Melakukan pencocokan template untuk setiap template\n",
    "    results = []\n",
    "    for template in templates:\n",
    "        result = cv2.matchTemplate(gray, template, cv2.TM_CCOEFF_NORMED)\n",
    "        min_val, max_val, min_loc, max_loc = cv2.minMaxLoc(result)\n",
    "        results.append(max_val)\n",
    "\n",
    "    # Menentukan denominasi dengan skor pencocokan tertinggi\n",
    "    max_score = max(results)\n",
    "    max_index = results.index(max_score)\n",
    "    denomination = denominations[max_index]\n",
    "\n",
    "    # Menggambar persegi panjang di sekitar mata uang yang terdeteksi\n",
    "    h, w = templates[max_index].shape\n",
    "    top_left = max_loc\n",
    "    bottom_right = (top_left[0] + w, top_left[1] + h)\n",
    "    cv2.rectangle(image, top_left, bottom_right, (0, 255, 0), 2)\n",
    "\n",
    "    # Menambahkan teks yang menunjukkan denominasi pada gambar\n",
    "    text = \"Value: \" + str(denomination) + \" Rupiah\"\n",
    "    cv2.putText(image, text, (top_left[0], top_left[1] - 10), cv2.FONT_HERSHEY_SIMPLEX, 0.9, (0, 255, 0), 2)\n",
    "\n",
    "    return image, denomination"
   ]
  },
  {
   "cell_type": "code",
   "execution_count": 3,
   "metadata": {},
   "outputs": [],
   "source": [
    "# Import Foto\n",
    "image = cv2.imread('money1.jpg')"
   ]
  },
  {
   "cell_type": "code",
   "execution_count": 4,
   "metadata": {},
   "outputs": [
    {
     "name": "stdout",
     "output_type": "stream",
     "text": [
      "Currency value: 500000\n"
     ]
    }
   ],
   "source": [
    "# Mengidentifikasi denominasi mata uang dan mendapatkan gambar yang telah diberi anotasi\n",
    "annotated_image, currency_value = identify_currency(image)\n",
    "\n",
    "# Menampilkan gambar yang telah diberi anotasi\n",
    "cv2.imshow('Annotated Image', annotated_image)\n",
    "cv2.waitKey(0)\n",
    "cv2.destroyAllWindows()\n",
    "\n",
    "# Mencetak denominasi mata uang yang teridentifikasi\n",
    "print(\"Currency value:\", currency_value)"
   ]
  }
 ],
 "metadata": {
  "kernelspec": {
   "display_name": "Python 3",
   "language": "python",
   "name": "python3"
  },
  "language_info": {
   "codemirror_mode": {
    "name": "ipython",
    "version": 3
   },
   "file_extension": ".py",
   "mimetype": "text/x-python",
   "name": "python",
   "nbconvert_exporter": "python",
   "pygments_lexer": "ipython3",
   "version": "3.10.0"
  },
  "orig_nbformat": 4
 },
 "nbformat": 4,
 "nbformat_minor": 2
}
